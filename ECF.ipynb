{
  "nbformat": 4,
  "nbformat_minor": 0,
  "metadata": {
    "colab": {
      "name": "Copy of ECF.ipynb",
      "provenance": [],
      "collapsed_sections": []
    },
    "kernelspec": {
      "name": "python3",
      "display_name": "Python 3"
    }
  },
  "cells": [
    {
      "cell_type": "code",
      "metadata": {
        "colab": {
          "base_uri": "https://localhost:8080/"
        },
        "id": "lzyUS5trTGRR",
        "outputId": "6f3a29b7-5006-4d5e-e31f-bb458034b1d3"
      },
      "source": [
        "from google.colab import drive \n",
        "drive.mount('/content/drive')"
      ],
      "execution_count": null,
      "outputs": [
        {
          "output_type": "stream",
          "text": [
            "Mounted at /content/drive\n"
          ],
          "name": "stdout"
        }
      ]
    },
    {
      "cell_type": "code",
      "metadata": {
        "id": "ETZJAKH5090Z"
      },
      "source": [
        "import random"
      ],
      "execution_count": null,
      "outputs": []
    },
    {
      "cell_type": "code",
      "metadata": {
        "id": "NXFCMF6XXal9"
      },
      "source": [
        "import torch\n",
        "import numpy\n",
        "import pandas\n",
        "import gensim"
      ],
      "execution_count": null,
      "outputs": []
    },
    {
      "cell_type": "code",
      "metadata": {
        "id": "PujcRfgGVma2"
      },
      "source": [
        "from gensim.models import KeyedVectors \n",
        " \n"
      ],
      "execution_count": null,
      "outputs": []
    },
    {
      "cell_type": "markdown",
      "metadata": {
        "id": "M0_IbnAOL16D"
      },
      "source": [
        "#word encodings"
      ]
    },
    {
      "cell_type": "markdown",
      "metadata": {
        "id": "OXiesjx6L7Ii"
      },
      "source": [
        "word2vec"
      ]
    },
    {
      "cell_type": "code",
      "metadata": {
        "id": "7pj_kk7K1w3S"
      },
      "source": [
        "model = KeyedVectors.load_word2vec_format('/content/drive/MyDrive/NLP-Fnd/Unzipped/GoogleNews-vectors-negative300.bin',binary=True)"
      ],
      "execution_count": null,
      "outputs": []
    },
    {
      "cell_type": "code",
      "metadata": {
        "id": "H03ziaKYy_Zf"
      },
      "source": [
        "dim=300"
      ],
      "execution_count": null,
      "outputs": []
    },
    {
      "cell_type": "markdown",
      "metadata": {
        "id": "FoY5Zb6nUNMj"
      },
      "source": [
        "#EMBED"
      ]
    },
    {
      "cell_type": "code",
      "metadata": {
        "id": "otzwNL6-zIx1"
      },
      "source": [
        "def vectorize(sentence) :\n",
        "  tokens = sentence.split(' ')\n",
        "  x = torch.randn( 1,len(tokens),dim )\n",
        "  for i in range( min(len(tokens),50) ) :\n",
        "    try :\n",
        "      vector = model[ tokens[i].lower() ]\n",
        "      for j in range(dim) :\n",
        "        x[0][i][j] = torch.tensor(vector[j])\n",
        "    except Exception as e:\n",
        "        pass \n",
        "  return x "
      ],
      "execution_count": null,
      "outputs": []
    },
    {
      "cell_type": "code",
      "metadata": {
        "id": "HzLs2Qt2IoXj"
      },
      "source": [
        "def Give(frame,index) :\n",
        "  titlev = vectorize(frame['title'][index])\n",
        "  textv  = vectorize(frame['text'][index] )\n",
        "  y = torch.zeros(1,1)\n",
        "  if frame['Label'][index] == 'true' :\n",
        "    y[0][0] = 1.0\n",
        "  else :\n",
        "    y[0][0] = 0.0\n",
        "  return [ [titlev,textv]  , y ]"
      ],
      "execution_count": null,
      "outputs": []
    },
    {
      "cell_type": "markdown",
      "metadata": {
        "id": "LdOyUGsoSjPf"
      },
      "source": [
        "# Data loading"
      ]
    },
    {
      "cell_type": "code",
      "metadata": {
        "id": "WnkhhbQh2V3-"
      },
      "source": [
        "#__________________________________________________FETCHING THE DATAFRAME__________________________________________________________________________\n",
        "\n",
        "\n",
        "train_data_Fake=pandas.read_csv(\"/content/drive/MyDrive/NLP-Fnd/Fake.csv\") #FAKE File Read\n",
        "train_data_Tre=pandas.read_csv(\"/content/drive/MyDrive/NLP-Fnd/True.csv\") #TRUE File Read\n",
        "#Columns---->title\ttext\tsubject\tdate\n",
        "\n",
        "\n",
        "\n",
        "train_data_Fake[\"Label\"]=\"fake\" #Fake Label\n",
        "train_data_Tre[\"Label\"]=\"true\"  #True Label \n",
        "\n",
        "\n",
        "\n",
        "#Title  Body  Combine\n",
        "# ___________________________COncatInating two DatafRames of True and Fake______________________\n",
        "\n",
        "frame = train_data_Fake.append([train_data_Tre])\n",
        "#Creating the text and title in one column concat\n",
        "# frame[\"combined\"] = frame[\"title\"] +\" \"+frame[\"text\"]\n",
        "\n",
        "\n",
        "#_________________________________RANDOM SHUFFLING____________________________________________\n",
        "frame = (frame.sample(frac = .1)).reset_index(drop=True)[[\"title\",\"text\",\"Label\"]]\n"
      ],
      "execution_count": null,
      "outputs": []
    },
    {
      "cell_type": "code",
      "metadata": {
        "id": "I-7SSPhIpN1n",
        "colab": {
          "base_uri": "https://localhost:8080/",
          "height": 419
        },
        "outputId": "e4aee7dd-1a34-4729-b22d-a2f8f4302387"
      },
      "source": [
        "frame[:100]"
      ],
      "execution_count": null,
      "outputs": [
        {
          "output_type": "execute_result",
          "data": {
            "text/html": [
              "<div>\n",
              "<style scoped>\n",
              "    .dataframe tbody tr th:only-of-type {\n",
              "        vertical-align: middle;\n",
              "    }\n",
              "\n",
              "    .dataframe tbody tr th {\n",
              "        vertical-align: top;\n",
              "    }\n",
              "\n",
              "    .dataframe thead th {\n",
              "        text-align: right;\n",
              "    }\n",
              "</style>\n",
              "<table border=\"1\" class=\"dataframe\">\n",
              "  <thead>\n",
              "    <tr style=\"text-align: right;\">\n",
              "      <th></th>\n",
              "      <th>title</th>\n",
              "      <th>text</th>\n",
              "      <th>Label</th>\n",
              "    </tr>\n",
              "  </thead>\n",
              "  <tbody>\n",
              "    <tr>\n",
              "      <th>0</th>\n",
              "      <td>JUSTICE SCALIA Found Dead With ‘Pillow Over Hi...</td>\n",
              "      <td>It was just announced that there will be no au...</td>\n",
              "      <td>fake</td>\n",
              "    </tr>\n",
              "    <tr>\n",
              "      <th>1</th>\n",
              "      <td>Nearly 400 die as Myanmar army steps up crackd...</td>\n",
              "      <td>COX S BAZAR, Bangladesh (Reuters) - Nearly 400...</td>\n",
              "      <td>true</td>\n",
              "    </tr>\n",
              "    <tr>\n",
              "      <th>2</th>\n",
              "      <td>Maxine Waters Hijacks Funeral To Bash Trump…Tu...</td>\n",
              "      <td>Maxine Waters got downright nasty at the funer...</td>\n",
              "      <td>fake</td>\n",
              "    </tr>\n",
              "    <tr>\n",
              "      <th>3</th>\n",
              "      <td>Senate passes measure that permanently repeals...</td>\n",
              "      <td>WASHINGTON (Reuters) - Senate Republicans pass...</td>\n",
              "      <td>true</td>\n",
              "    </tr>\n",
              "    <tr>\n",
              "      <th>4</th>\n",
              "      <td>SHARIA COMPLIANT SWIMSUITS: As Spring Arrives ...</td>\n",
              "      <td>Make no mistake, the Muslim European invaders ...</td>\n",
              "      <td>fake</td>\n",
              "    </tr>\n",
              "    <tr>\n",
              "      <th>...</th>\n",
              "      <td>...</td>\n",
              "      <td>...</td>\n",
              "      <td>...</td>\n",
              "    </tr>\n",
              "    <tr>\n",
              "      <th>4485</th>\n",
              "      <td>LOL! RADIO STATION HOSTS Car Wash For Veterans...</td>\n",
              "      <td>An online radio station based out of Oklahoma ...</td>\n",
              "      <td>fake</td>\n",
              "    </tr>\n",
              "    <tr>\n",
              "      <th>4486</th>\n",
              "      <td>Another One Bites The Dust: GOP Candidate Han...</td>\n",
              "      <td>Another Republican has dropped out of the race...</td>\n",
              "      <td>fake</td>\n",
              "    </tr>\n",
              "    <tr>\n",
              "      <th>4487</th>\n",
              "      <td>Meet Leftist Vogue Fashion Editor Slammed on S...</td>\n",
              "      <td>A fashion editor for Vogue (see video below) h...</td>\n",
              "      <td>fake</td>\n",
              "    </tr>\n",
              "    <tr>\n",
              "      <th>4488</th>\n",
              "      <td>China's Xi tells India's Modi to safeguard pea...</td>\n",
              "      <td>BEIJING (Reuters) - China s President Xi Jinpi...</td>\n",
              "      <td>true</td>\n",
              "    </tr>\n",
              "    <tr>\n",
              "      <th>4489</th>\n",
              "      <td>WHAT? DEMOCRAT CONGRESSWOMAN Calls Violent Rio...</td>\n",
              "      <td>Here s just one video from last night that wil...</td>\n",
              "      <td>fake</td>\n",
              "    </tr>\n",
              "  </tbody>\n",
              "</table>\n",
              "<p>4490 rows × 3 columns</p>\n",
              "</div>"
            ],
            "text/plain": [
              "                                                  title  ... Label\n",
              "0     JUSTICE SCALIA Found Dead With ‘Pillow Over Hi...  ...  fake\n",
              "1     Nearly 400 die as Myanmar army steps up crackd...  ...  true\n",
              "2     Maxine Waters Hijacks Funeral To Bash Trump…Tu...  ...  fake\n",
              "3     Senate passes measure that permanently repeals...  ...  true\n",
              "4     SHARIA COMPLIANT SWIMSUITS: As Spring Arrives ...  ...  fake\n",
              "...                                                 ...  ...   ...\n",
              "4485  LOL! RADIO STATION HOSTS Car Wash For Veterans...  ...  fake\n",
              "4486   Another One Bites The Dust: GOP Candidate Han...  ...  fake\n",
              "4487  Meet Leftist Vogue Fashion Editor Slammed on S...  ...  fake\n",
              "4488  China's Xi tells India's Modi to safeguard pea...  ...  true\n",
              "4489  WHAT? DEMOCRAT CONGRESSWOMAN Calls Violent Rio...  ...  fake\n",
              "\n",
              "[4490 rows x 3 columns]"
            ]
          },
          "metadata": {
            "tags": []
          },
          "execution_count": 40
        }
      ]
    },
    {
      "cell_type": "code",
      "metadata": {
        "id": "b4RUtzKS0IWm"
      },
      "source": [
        ""
      ],
      "execution_count": null,
      "outputs": []
    },
    {
      "cell_type": "markdown",
      "metadata": {
        "id": "nUhOhfsOUNxi"
      },
      "source": [
        "#Network\n"
      ]
    },
    {
      "cell_type": "markdown",
      "metadata": {
        "id": "4Uj5055dL45c"
      },
      "source": [
        ""
      ]
    },
    {
      "cell_type": "code",
      "metadata": {
        "id": "JHh93VntG0X_"
      },
      "source": [
        "def contanicate(f1,f2) :\n",
        "  size_data = f1.shape[1]\n",
        "  feature_size1 = f1.shape[2]\n",
        "  feature_size2 = f2.shape[2]\n",
        "  fcn = torch.zeros( (size_data) , 2*(feature_size1+feature_size2) ).to(device)\n",
        "\n",
        "  for index in range(size_data) :\n",
        "    indexv=0\n",
        "    for dir in range(2) :\n",
        "      for feature_row in range(feature_size1) :\n",
        "        fcn[index][indexv] = f1[dir][index][feature_row]\n",
        "        indexv=indexv+1\n",
        "    for dir in range(2) :\n",
        "      for feature_row in range(feature_size2) :\n",
        "        fcn[index][indexv] = f2[dir][index][feature_row]\n",
        "        indexv=indexv+1\n",
        "\n",
        "  return fcn"
      ],
      "execution_count": null,
      "outputs": []
    },
    {
      "cell_type": "code",
      "metadata": {
        "id": "pJZgPZ-_jg3K"
      },
      "source": [
        "a = torch.zeros( 2,3 ,requires_grad = True)"
      ],
      "execution_count": null,
      "outputs": []
    },
    {
      "cell_type": "code",
      "metadata": {
        "colab": {
          "base_uri": "https://localhost:8080/"
        },
        "id": "lyVfum_Ljj2n",
        "outputId": "c055d5cb-ee99-4670-f0bd-ee968dd307fc"
      },
      "source": [
        "a"
      ],
      "execution_count": null,
      "outputs": [
        {
          "output_type": "execute_result",
          "data": {
            "text/plain": [
              "tensor([[0., 0., 0.],\n",
              "        [0., 0., 0.]], requires_grad=True)"
            ]
          },
          "metadata": {
            "tags": []
          },
          "execution_count": 5
        }
      ]
    },
    {
      "cell_type": "code",
      "metadata": {
        "id": "PKuIIyRfjoKS"
      },
      "source": [
        "b = Encoder_LSTM(1,1)"
      ],
      "execution_count": null,
      "outputs": []
    },
    {
      "cell_type": "code",
      "metadata": {
        "colab": {
          "base_uri": "https://localhost:8080/"
        },
        "id": "I2JuwaQVj-SE",
        "outputId": "6a15debc-7324-44fe-ca18-593e79dd923d"
      },
      "source": [
        "list(b.parameters())"
      ],
      "execution_count": null,
      "outputs": [
        {
          "output_type": "execute_result",
          "data": {
            "text/plain": [
              "[Parameter containing:\n",
              " tensor([[-0.0567]], requires_grad=True), Parameter containing:\n",
              " tensor([[-0.7356]], requires_grad=True), Parameter containing:\n",
              " tensor([-0.1275], requires_grad=True), Parameter containing:\n",
              " tensor([0.5790], requires_grad=True)]"
            ]
          },
          "metadata": {
            "tags": []
          },
          "execution_count": 55
        }
      ]
    },
    {
      "cell_type": "code",
      "metadata": {
        "id": "4vKWvy51kJu5"
      },
      "source": [
        "k = Encoder_LSTM(1,1)"
      ],
      "execution_count": null,
      "outputs": []
    },
    {
      "cell_type": "code",
      "metadata": {
        "colab": {
          "base_uri": "https://localhost:8080/"
        },
        "id": "erGF3SFxkPh7",
        "outputId": "c2eb9b20-8282-437a-eb15-97809ba3d7ff"
      },
      "source": [
        "list(k.parameters())"
      ],
      "execution_count": null,
      "outputs": [
        {
          "output_type": "execute_result",
          "data": {
            "text/plain": [
              "[Parameter containing:\n",
              " tensor([[0.0305]], requires_grad=True), Parameter containing:\n",
              " tensor([[0.0320]], requires_grad=True), Parameter containing:\n",
              " tensor([-0.9854], requires_grad=True), Parameter containing:\n",
              " tensor([-0.5705], requires_grad=True)]"
            ]
          },
          "metadata": {
            "tags": []
          },
          "execution_count": 59
        }
      ]
    },
    {
      "cell_type": "code",
      "metadata": {
        "colab": {
          "base_uri": "https://localhost:8080/"
        },
        "id": "N2v9hSitlkMT",
        "outputId": "fa2330c6-055f-4db6-f0f9-e986f1f46c7b"
      },
      "source": [
        "len( list(b1) )"
      ],
      "execution_count": null,
      "outputs": [
        {
          "output_type": "execute_result",
          "data": {
            "text/plain": [
              "8"
            ]
          },
          "metadata": {
            "tags": []
          },
          "execution_count": 26
        }
      ]
    },
    {
      "cell_type": "code",
      "metadata": {
        "id": "0yKIoJnBXYWF"
      },
      "source": [
        "\n",
        "class Encoder_LSTM(torch.nn.Module) :\n",
        "    def __init__(self,input_dim , output_dim , ISL = False ) :\n",
        "        super(Encoder_LSTM,self).__init__()\n",
        "        self.Input_dim = input_dim\n",
        "        self.Output_dim = output_dim\n",
        "        self.Is_Shallow = True\n",
        "        self.Neuron = output_dim\n",
        "        self.IsBiDir = 2\n",
        "        self.ISL = ISL\n",
        "        self.device =None\n",
        "        self.atten_matrix = torch.zeros( self.Output_dim , self.Output_dim , requires_grad=True )\n",
        "        self.Initialize()\n",
        "\n",
        "    def Initialize(self) :\n",
        "        self.LSTM = torch.nn.LSTM(input_size = self.Input_dim , hidden_size = self.Output_dim , num_layers = 1 ,bidirectional=True, batch_first = True  ,  dropout=0)\n",
        "        #self.embedding = nn.EmbeddingBag(vocab_size, embed_dim, sparse=True)\n",
        "        self.device = device\n",
        "\n",
        "    def Initialize_Hidden(self,batch_size) :\n",
        "      return torch.zeros( 2 , batch_size , self.Neuron)\n",
        "\n",
        "    def Initialize_Cell(self,batch_size) :\n",
        "      return torch.zeros( 2 , batch_size , self.Neuron )\n",
        "\n",
        "    def Encode(self,seq) :\n",
        "        batch_size = seq.shape[0]\n",
        "        #embeds =  embeddings( seq )\n",
        "        ihs = self.Initialize_Hidden(batch_size)\n",
        "        ics   = self.Initialize_Cell(batch_size)\n",
        "        Latent_Feature = self.forward(seq,ihs,ics)\n",
        "        return Latent_Feature\n",
        "\n",
        "    def forward(self,seq,initial_hidden_state,intial_cell_state) :\n",
        "        output , ( h_n , c_n) = self.LSTM(seq, ( initial_hidden_state , intial_cell_state ) )\n",
        "        return h_n\n",
        "\n",
        "\n"
      ],
      "execution_count": null,
      "outputs": []
    },
    {
      "cell_type": "code",
      "metadata": {
        "id": "g2Hl9hApciM7"
      },
      "source": [
        "class DS_Learner_1HL(torch.nn.Module) :\n",
        "    def __init__(self  ,input_dim , output_dim , hidden ,dropout=0 ) :\n",
        "        super(DS_Learner_1HL,self).__init__()\n",
        "        self.input_dim = input_dim\n",
        "        self.output_dim = output_dim\n",
        "        self.dropout = dropout\n",
        "        self.hidden = hidden\n",
        "        self.Initialize()\n",
        "\n",
        "    def Initialize(self) :\n",
        "        self.fc1 = torch.nn.Linear(self.input_dim,self.hidden) \n",
        "        self.sigmoid1 = torch.nn.Sigmoid() \n",
        "        self.fc2 = torch.nn.Linear(self.hidden,self.output_dim)\n",
        "        self.sigmoid2 = torch.nn.Sigmoid()\n",
        "\n",
        "    \n",
        "    def forward(self,input_x) :\n",
        "        lc1 = self.fc1(input_x)\n",
        "        nl1 = self.sigmoid1(lc1)\n",
        "        lc2 = self.fc2(nl1)\n",
        "        nl2 = self.sigmoid2(lc2)\n",
        "        return nl2\n",
        "\n"
      ],
      "execution_count": null,
      "outputs": []
    },
    {
      "cell_type": "code",
      "metadata": {
        "id": "nOb7dycUEC59"
      },
      "source": [
        "class Wrapper(torch.nn.Module) :\n",
        "  def __init__(self,ec1,ec2,cn) :\n",
        "    super(Wrapper,self).__init__()\n",
        "    self.enc1 = ec1\n",
        "    self.enc2 = ec2\n",
        "    self.cn  = cn \n",
        "  def forward(self,x) :\n",
        "    hs1 = self.enc1.Encode(x[0]) \n",
        "    hs2 = self.enc2.Encode(x[1])\n",
        "    hsc = contanicate(hs1,hs2)\n",
        "    final = self.cn(hsc)\n",
        "    return final"
      ],
      "execution_count": null,
      "outputs": []
    },
    {
      "cell_type": "code",
      "metadata": {
        "colab": {
          "base_uri": "https://localhost:8080/"
        },
        "id": "DfQHX-qWONSr",
        "outputId": "efce75a0-ed10-4236-a8a8-9da1c7483188"
      },
      "source": [
        "if torch.cuda.is_available():\n",
        "    device = torch.device(\"cuda:0\")  # you can continue going on here, like cuda:1 cuda:2....etc. \n",
        "    print(\"Running on the GPU\")\n",
        "else:\n",
        "    device = torch.device(\"cpu\")\n",
        "    print(\"Running on the CPU\")"
      ],
      "execution_count": null,
      "outputs": [
        {
          "output_type": "stream",
          "text": [
            "Running on the CPU\n"
          ],
          "name": "stdout"
        }
      ]
    },
    {
      "cell_type": "markdown",
      "metadata": {
        "id": "PaPmg2FzKDmG"
      },
      "source": [
        "#setting art"
      ]
    },
    {
      "cell_type": "code",
      "metadata": {
        "id": "Xowps3tzOOwT"
      },
      "source": [
        "device = 'cpu'"
      ],
      "execution_count": null,
      "outputs": []
    },
    {
      "cell_type": "code",
      "metadata": {
        "id": "tWI-7CR2QUrV"
      },
      "source": [
        "ems = 300\n",
        "hs1=10\n",
        "hs2 =15 \n",
        "hl1s=10"
      ],
      "execution_count": null,
      "outputs": []
    },
    {
      "cell_type": "code",
      "metadata": {
        "id": "mKpcuCSxEycK"
      },
      "source": [
        "enc1 = Encoder_LSTM(ems,hs1)\n",
        "enc2 = Encoder_LSTM(ems,hs2)\n",
        "cn = DS_Learner_1HL( 2*(hs1+hs2) ,1, hl1s )"
      ],
      "execution_count": null,
      "outputs": []
    },
    {
      "cell_type": "code",
      "metadata": {
        "id": "3cXX4XdHFK9s"
      },
      "source": [
        "w = Wrapper(enc1,enc2,cn).to(device)"
      ],
      "execution_count": null,
      "outputs": []
    },
    {
      "cell_type": "code",
      "metadata": {
        "id": "sC73aCjMmUEw"
      },
      "source": [
        "optimizer = torch.optim.Adam(w.parameters()   , lr=0.2)"
      ],
      "execution_count": null,
      "outputs": []
    },
    {
      "cell_type": "code",
      "metadata": {
        "id": "OMiqF0dnE_uz"
      },
      "source": [
        "def Train1(NG,optimizer,frame,max_epoch=1) :\n",
        "  length = frame.shape[0]\n",
        "  size_batch = 49\n",
        "  number_batch = int(length /size_batch)\n",
        "  print(\"length \",length,\"  size Batch \",size_batch)\n",
        "  Loss_function = torch.nn.BCELoss() \n",
        "\n",
        "\n",
        "  for epoch in range(max_epoch) :\n",
        "    print(\"----------------------------------EPOCH--------------------------------------\",epoch)\n",
        "    for bindex in range( 1 ) :\n",
        "      loss = 0 \n",
        "      for  i in range( bindex*size_batch , (bindex+1)*size_batch )  :\n",
        "        [x,y] = Give(frame, i ) \n",
        "        pred = NG(x)\n",
        "        loss = loss + Loss_function(pred,y)\n",
        "        print(\"#\",end='')\n",
        "      loss = loss/size_batch\n",
        "      optimizer.zero_grad()\n",
        "      loss.backward() \n",
        "      print(\"\\nepoch:\",epoch ,\"  iter:\",bindex ,\"  loss:\",loss)\n",
        "      optimizer.step()\n",
        "\n",
        "      "
      ],
      "execution_count": null,
      "outputs": []
    },
    {
      "cell_type": "code",
      "metadata": {
        "id": "QyS7WeSFQ1_t",
        "colab": {
          "base_uri": "https://localhost:8080/"
        },
        "outputId": "ae014e61-b4ae-43bc-ae35-f56f8a7a3c90"
      },
      "source": [
        "Train1(w,optimizer,frame,10)"
      ],
      "execution_count": null,
      "outputs": [
        {
          "output_type": "stream",
          "text": [
            "length  4490   size Batch  49\n",
            "----------------------------------EPOCH-------------------------------------- 0\n",
            "#################################################\n",
            "epoch: 0   iter: 0   loss: tensor(0.7004, grad_fn=<DivBackward0>)\n",
            "----------------------------------EPOCH-------------------------------------- 1\n",
            "#################################################\n",
            "epoch: 1   iter: 0   loss: tensor(0.7753, grad_fn=<DivBackward0>)\n",
            "----------------------------------EPOCH-------------------------------------- 2\n",
            "#################################################\n",
            "epoch: 2   iter: 0   loss: tensor(0.5918, grad_fn=<DivBackward0>)\n",
            "----------------------------------EPOCH-------------------------------------- 3\n",
            "#################################################\n",
            "epoch: 3   iter: 0   loss: tensor(0.4686, grad_fn=<DivBackward0>)\n",
            "----------------------------------EPOCH-------------------------------------- 4\n",
            "#################################################\n",
            "epoch: 4   iter: 0   loss: tensor(0.3234, grad_fn=<DivBackward0>)\n",
            "----------------------------------EPOCH-------------------------------------- 5\n",
            "#################################################\n",
            "epoch: 5   iter: 0   loss: tensor(0.2214, grad_fn=<DivBackward0>)\n",
            "----------------------------------EPOCH-------------------------------------- 6\n",
            "#################################################\n",
            "epoch: 6   iter: 0   loss: tensor(0.1482, grad_fn=<DivBackward0>)\n",
            "----------------------------------EPOCH-------------------------------------- 7\n",
            "#################################################\n",
            "epoch: 7   iter: 0   loss: tensor(0.0706, grad_fn=<DivBackward0>)\n",
            "----------------------------------EPOCH-------------------------------------- 8\n",
            "#################################################\n",
            "epoch: 8   iter: 0   loss: tensor(0.1180, grad_fn=<DivBackward0>)\n",
            "----------------------------------EPOCH-------------------------------------- 9\n",
            "#################################################\n",
            "epoch: 9   iter: 0   loss: tensor(0.0237, grad_fn=<DivBackward0>)\n"
          ],
          "name": "stdout"
        }
      ]
    },
    {
      "cell_type": "code",
      "metadata": {
        "colab": {
          "base_uri": "https://localhost:8080/"
        },
        "id": "zoLvwWLAhCRI",
        "outputId": "d6379018-e46b-494b-cd6b-28d923499fcd"
      },
      "source": [
        "w( Give( frame,0 )[0] ) , Give(frame,0)[1] "
      ],
      "execution_count": null,
      "outputs": [
        {
          "output_type": "execute_result",
          "data": {
            "text/plain": [
              "(tensor([[0.0200]], grad_fn=<SigmoidBackward>), tensor([[0.]]))"
            ]
          },
          "metadata": {
            "tags": []
          },
          "execution_count": 177
        }
      ]
    },
    {
      "cell_type": "code",
      "metadata": {
        "id": "NoGeyqrNbYm3"
      },
      "source": [
        "for i in range(50) :\n",
        "  print(\"original  :\",frame['Label'][i],\"            prediction:\",w( Give(frame,i)[0] ),\"   lf:\",Give(frame,i)[1])"
      ],
      "execution_count": null,
      "outputs": []
    }
  ]
}